{
 "cells": [
  {
   "cell_type": "markdown",
   "metadata": {},
   "source": [
    "# Quiz 1"
   ]
  },
  {
   "cell_type": "code",
   "execution_count": 1,
   "metadata": {},
   "outputs": [
    {
     "data": {
      "text/plain": [
       "5"
      ]
     },
     "execution_count": 1,
     "metadata": {},
     "output_type": "execute_result"
    }
   ],
   "source": [
    "2345 % 13 "
   ]
  },
  {
   "cell_type": "code",
   "execution_count": 2,
   "metadata": {},
   "outputs": [
    {
     "data": {
      "text/plain": [
       "92"
      ]
     },
     "execution_count": 2,
     "metadata": {},
     "output_type": "execute_result"
    }
   ],
   "source": [
    "1567 // 17 "
   ]
  },
  {
   "cell_type": "markdown",
   "metadata": {},
   "source": [
    "# FirstName กับ Firstname เป็นตัวแปรเดียวกันหรือไม่?\n",
    "## - คนละตัวเนื่องจากตัวพิมพ์ใหญ่-เล็กมีผลต่อการตั้งชื่อ"
   ]
  },
  {
   "cell_type": "markdown",
   "metadata": {},
   "source": [
    "# 13Friday เป็นตัวแปรที่ถูกต้องหรือไม่?\n",
    "## - ไม่ถูกต้องเนื่องจากชื่อตัวแปรไม่สามารถขึ้นต้นด้วยตัวเลขได้"
   ]
  },
  {
   "cell_type": "code",
   "execution_count": 3,
   "metadata": {},
   "outputs": [
    {
     "name": "stdout",
     "output_type": "stream",
     "text": [
      "คำตอบของข้อ 1 คือ 5 และข้อ 2 คือ 92\n"
     ]
    }
   ],
   "source": [
    "print(\"คำตอบของข้อ 1 คือ {} และข้อ 2 คือ {}\".format(2345 % 13, 1567 // 17))"
   ]
  },
  {
   "cell_type": "markdown",
   "metadata": {},
   "source": [
    "# Quiz 2"
   ]
  },
  {
   "cell_type": "code",
   "execution_count": 4,
   "metadata": {},
   "outputs": [
    {
     "name": "stdout",
     "output_type": "stream",
     "text": [
      "33.0\n"
     ]
    }
   ],
   "source": [
    "result = lambda x: x/3\n",
    "print(result(99))"
   ]
  },
  {
   "cell_type": "code",
   "execution_count": 5,
   "metadata": {
    "scrolled": true
   },
   "outputs": [
    {
     "name": "stdout",
     "output_type": "stream",
     "text": [
      "4.0\n"
     ]
    }
   ],
   "source": [
    "def result1(a,b,c,d):\n",
    "    y = (a+b+c+d)/((a+b+c+d)/4)\n",
    "    return y\n",
    "print(result1(12,3,4,1))"
   ]
  },
  {
   "cell_type": "code",
   "execution_count": 6,
   "metadata": {},
   "outputs": [
    {
     "name": "stdout",
     "output_type": "stream",
     "text": [
      "3.3333333333333335\n"
     ]
    }
   ],
   "source": [
    "result3 = lambda x, y, z: (x+y+z)/3\n",
    "print(result3(1,4,5))"
   ]
  },
  {
   "cell_type": "markdown",
   "metadata": {},
   "source": [
    "# Quiz 3"
   ]
  },
  {
   "cell_type": "code",
   "execution_count": 7,
   "metadata": {},
   "outputs": [],
   "source": [
    "information = ['Paramate', 'Soontornwipat', '29']"
   ]
  },
  {
   "cell_type": "code",
   "execution_count": 8,
   "metadata": {},
   "outputs": [
    {
     "name": "stdout",
     "output_type": "stream",
     "text": [
      "['Paramate', 'Soontornwipat']\n"
     ]
    }
   ],
   "source": [
    "del(information[2])\n",
    "print(information)"
   ]
  },
  {
   "cell_type": "code",
   "execution_count": 9,
   "metadata": {},
   "outputs": [
    {
     "name": "stdout",
     "output_type": "stream",
     "text": [
      "['19', 'Paramate', 'Soontornwipat']\n"
     ]
    }
   ],
   "source": [
    "information.insert(0,'19')\n",
    "print(information)"
   ]
  },
  {
   "cell_type": "code",
   "execution_count": 10,
   "metadata": {},
   "outputs": [
    {
     "name": "stdout",
     "output_type": "stream",
     "text": [
      "['19', 'Paramate', 'Soontornwipat', '171', '82']\n"
     ]
    }
   ],
   "source": [
    "information.append('171')\n",
    "information.append('82')\n",
    "print(information)"
   ]
  },
  {
   "cell_type": "code",
   "execution_count": 11,
   "metadata": {},
   "outputs": [
    {
     "name": "stdout",
     "output_type": "stream",
     "text": [
      "['Soontornwipat', '171', '82']\n"
     ]
    }
   ],
   "source": [
    "print(information[-3:])"
   ]
  },
  {
   "cell_type": "markdown",
   "metadata": {},
   "source": [
    "# Quiz 4"
   ]
  },
  {
   "cell_type": "code",
   "execution_count": 12,
   "metadata": {},
   "outputs": [
    {
     "name": "stdout",
     "output_type": "stream",
     "text": [
      "6\n"
     ]
    }
   ],
   "source": [
    "a = [[[1,3],[3,4]],[5,[5,6],[7,8]]]\n",
    "print(a[1][1][1])"
   ]
  },
  {
   "cell_type": "code",
   "execution_count": 13,
   "metadata": {},
   "outputs": [],
   "source": [
    "names = [['a','b',1],['aa','bb',2],['aaa','bbb',3],['aaaa','bbbb',4]]"
   ]
  },
  {
   "cell_type": "code",
   "execution_count": 14,
   "metadata": {},
   "outputs": [
    {
     "name": "stdout",
     "output_type": "stream",
     "text": [
      "[['a', 'b', 1], ['aa', 'bb', 2], ['aaa', 'bbb', 3]]\n"
     ]
    }
   ],
   "source": [
    "names.pop()\n",
    "print(names)"
   ]
  },
  {
   "cell_type": "code",
   "execution_count": 19,
   "metadata": {},
   "outputs": [
    {
     "name": "stdout",
     "output_type": "stream",
     "text": [
      "[['aaaaa', 'bbbbb', 5], ['aaaaa', 'bbbbb', 5], ['aaaaa', 'bbbbb', 5], ['a', 'b', 1], ['aa', 'bb', 2], ['aaa', 'bbb', 3]]\n"
     ]
    }
   ],
   "source": [
    "name5 = ['aaaaa','bbbbb',5]\n",
    "names.insert(0,name5)\n",
    "print(names)"
   ]
  },
  {
   "cell_type": "code",
   "execution_count": 20,
   "metadata": {
    "scrolled": true
   },
   "outputs": [
    {
     "name": "stdout",
     "output_type": "stream",
     "text": [
      "[['aaaaa', 'bbbbb', 5], ['aaaaa', 'bbbbb', 15], ['aaaaa', 'bbbbb', 5], ['a', 'b', 1], ['aa', 'bb', 2], ['aaa', 'bbb', 3]]\n"
     ]
    }
   ],
   "source": [
    "names[1][2] = names[1][2] + 10\n",
    "print(names)"
   ]
  },
  {
   "cell_type": "markdown",
   "metadata": {},
   "source": [
    "# Quiz 5"
   ]
  },
  {
   "cell_type": "code",
   "execution_count": 25,
   "metadata": {},
   "outputs": [
    {
     "name": "stdout",
     "output_type": "stream",
     "text": [
      "[1, 8, 27, 64, 125, 216, 343, 512, 729, 1000]\n",
      "[1, 8, 27, 64, 125, 216, 343, 512, 729, 1000]\n"
     ]
    }
   ],
   "source": [
    "lst = [1,2,3,4,5,6,7,8,9,10]\n",
    "sqr = list(map((lambda x: x*x*x),lst))\n",
    "print(sqr)\n",
    "\n",
    "def func(x):\n",
    "    y = x*x*x\n",
    "    return y\n",
    "\n",
    "sqr2 = list(map(func, lst))\n",
    "print(sqr2)"
   ]
  },
  {
   "cell_type": "code",
   "execution_count": 59,
   "metadata": {},
   "outputs": [
    {
     "name": "stdout",
     "output_type": "stream",
     "text": [
      "[1, 3, 5, 7, 9]\n",
      "[1, 3, 5, 7, 9]\n"
     ]
    }
   ],
   "source": [
    "fil = list(filter((lambda x: (x**2) % 2 != 0), lst))\n",
    "print(fil)\n",
    "\n",
    "def func2(x):\n",
    "    if((x**2) % 2) != 0:\n",
    "        y = 1\n",
    "    else:\n",
    "        y = 0\n",
    "    return y\n",
    "\n",
    "fil2 = list(filter(func2, lst))\n",
    "print(fil2)"
   ]
  },
  {
   "cell_type": "markdown",
   "metadata": {},
   "source": [
    "# Quiz 6 "
   ]
  },
  {
   "cell_type": "code",
   "execution_count": 62,
   "metadata": {},
   "outputs": [
    {
     "name": "stdout",
     "output_type": "stream",
     "text": [
      "[1, 3, 5, 7, 9]\n"
     ]
    }
   ],
   "source": [
    "lst = [1,2,3,4,5] \n",
    "lst1 = [(x*2)-1 for x in lst]\n",
    "print(lst1)"
   ]
  },
  {
   "cell_type": "code",
   "execution_count": 64,
   "metadata": {
    "scrolled": true
   },
   "outputs": [
    {
     "name": "stdout",
     "output_type": "stream",
     "text": [
      "[1, 8, 64, 125, 343, 512, 1000, 1331, 2197]\n"
     ]
    }
   ],
   "source": [
    "lst = [1,2,3,4,5,6,7,8,9,10,11,12,13]\n",
    "lst1 = [x**3 for x in lst if x%3 != 0]\n",
    "print(lst1)"
   ]
  },
  {
   "cell_type": "markdown",
   "metadata": {},
   "source": [
    "# Quiz 7\n",
    "### จงเขียนโปรแกรมตรวจสอบคะแนนเด็กนักเรียน ถ้าเด็กได้คะแนนมากกว่า 80 A มากกว่า 70 เกรด B มากกว่า 60 เกรด C มากกว่า 50 เกรด D และต่ำกว่า 50 เกรด F\n"
   ]
  },
  {
   "cell_type": "code",
   "execution_count": 71,
   "metadata": {},
   "outputs": [
    {
     "name": "stdout",
     "output_type": "stream",
     "text": [
      "คุณได้เกรด F\n",
      "None\n",
      "คุณได้เกรด D\n",
      "None\n",
      "คุณได้เกรด C\n",
      "None\n",
      "คุณได้เกรด A\n",
      "None\n"
     ]
    }
   ],
   "source": [
    "def grade(x):\n",
    "    if (x > 80):\n",
    "        print('คุณได้เกรด A')\n",
    "    elif (x > 80):\n",
    "        print('คุณได้เกรด B')\n",
    "    elif (x > 60):\n",
    "        print('คุณได้เกรด C')\n",
    "    elif (x > 50):\n",
    "        print('คุณได้เกรด D')\n",
    "    else:\n",
    "        print('คุณได้เกรด F')\n",
    "\n",
    "print(grade(20))\n",
    "print(grade(51))\n",
    "print(grade(80))\n",
    "print(grade(90))"
   ]
  },
  {
   "cell_type": "markdown",
   "metadata": {},
   "source": [
    "# Quiz 8\n",
    "### กำหนดให้ A = [1, 2, 3, 4, 5] และ B = [2, 3, 1, 3, 2] จงเขียน Map แบบ Multiple-list operations โดยให้ B ยกกำลังด้วย A พร้อมกับแสดงผล\n"
   ]
  },
  {
   "cell_type": "code",
   "execution_count": 75,
   "metadata": {
    "scrolled": true
   },
   "outputs": [
    {
     "name": "stdout",
     "output_type": "stream",
     "text": [
      "[2, 9, 1, 81, 32]\n"
     ]
    }
   ],
   "source": [
    "A = [1, 2, 3, 4, 5]\n",
    "B = [2, 3, 1, 3, 2]\n",
    "\n",
    "result = list(map(lambda x,y: y**x, A,B))\n",
    "print(result)"
   ]
  },
  {
   "cell_type": "code",
   "execution_count": 79,
   "metadata": {},
   "outputs": [
    {
     "name": "stdout",
     "output_type": "stream",
     "text": [
      "[('a', 1, 50), ('b', 2, 60), ('c', 3, 70), ('d', 4, 80)]\n"
     ]
    }
   ],
   "source": [
    "name = ['a' ,'b', 'c', 'd']\n",
    "number =[1, 2, 3, 4]\n",
    "score =[50,60,70,80]\n",
    "\n",
    "print(list(zip(name,number,score)))"
   ]
  },
  {
   "cell_type": "markdown",
   "metadata": {},
   "source": [
    "# Quiz 9"
   ]
  },
  {
   "cell_type": "code",
   "execution_count": 86,
   "metadata": {},
   "outputs": [
    {
     "name": "stdout",
     "output_type": "stream",
     "text": [
      "244140625\n"
     ]
    }
   ],
   "source": [
    "from functools import reduce\n",
    "lst = [5, 2, 1, 3, 2] \n",
    "\n",
    "result = reduce((lambda x,y: x**y) , lst)\n",
    "print(result)"
   ]
  },
  {
   "cell_type": "code",
   "execution_count": 87,
   "metadata": {},
   "outputs": [
    {
     "name": "stdout",
     "output_type": "stream",
     "text": [
      "3628800\n"
     ]
    }
   ],
   "source": [
    "lst = [1,2,3,4,5,6,7,8,9,10] \n",
    "result = reduce((lambda x,y: x*y) , lst)\n",
    "print(result)"
   ]
  }
 ],
 "metadata": {
  "kernelspec": {
   "display_name": "Python 3",
   "language": "python",
   "name": "python3"
  },
  "language_info": {
   "codemirror_mode": {
    "name": "ipython",
    "version": 3
   },
   "file_extension": ".py",
   "mimetype": "text/x-python",
   "name": "python",
   "nbconvert_exporter": "python",
   "pygments_lexer": "ipython3",
   "version": "3.7.4"
  }
 },
 "nbformat": 4,
 "nbformat_minor": 2
}
